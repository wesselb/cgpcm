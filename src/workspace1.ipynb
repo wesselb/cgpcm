{
 "cells": [
  {
   "cell_type": "code",
   "execution_count": 1,
   "metadata": {
    "collapsed": false
   },
   "outputs": [],
   "source": [
    "import csv\n",
    "import numpy as np\n",
    "import datetime\n",
    "import time\n",
    "from core.plot import Plotter2D \n",
    "from core.data import Data"
   ]
  },
  {
   "cell_type": "code",
   "execution_count": 2,
   "metadata": {
    "collapsed": true
   },
   "outputs": [],
   "source": [
    "def date_to_timestamp(x, format='%Y-%m-%d'):\n",
    "    return time.mktime(datetime.datetime.strptime(x, format).timetuple())\n",
    "\n",
    "\n",
    "def to_numeric(x):\n",
    "    try:\n",
    "        return float(x)\n",
    "    except ValueError:\n",
    "        return np.nan\n",
    "\n",
    "\n",
    "def read_csv(path, x_index, y_indices, x_convert, y_convert, skip=0):\n",
    "    xs, ys = [], []\n",
    "\n",
    "    with open(path) as f:\n",
    "        reader = iter(csv.reader(f))\n",
    "        for i in range(skip):\n",
    "            next(reader)\n",
    "            \n",
    "        header = np.take(next(reader), y_indices)\n",
    "        \n",
    "        for row in reader:\n",
    "            xs.append(x_convert(row[x_index]))\n",
    "            ys.append(map(y_convert, np.take(row, y_indices)))\n",
    "\n",
    "    xs, ys = np.array(xs), np.array(ys)\n",
    "    ds = [Data(xs, ys[:, i]) for i in range(ys.shape[1])]\n",
    "\n",
    "    # Normalise\n",
    "    for i in range(len(ds)):\n",
    "        ds[i] = (ds[i] - ds[i].mean) / ds[i].std\n",
    "        \n",
    "    return ds, header\n",
    "\n",
    "\n",
    "def plot_read_csv(ds, header, reset_x=False):\n",
    "    if reset_x:\n",
    "        # Force evenly spaced and set x axis to integers\n",
    "        for d in ds:\n",
    "            d._evenly_spaced = True\n",
    "            d.x = np.arange(len(d.x))\n",
    "    \n",
    "    p = Plotter2D()\n",
    "    p.subplot(2, 1, 1)\n",
    "    p.title('Time Series')\n",
    "    for i, d in enumerate(ds):\n",
    "        p.plot(d, label=header[i])\n",
    "    p.show_legend()\n",
    "    p.subplot(2, 1, 2)\n",
    "    p.title('Autocorrelation')\n",
    "    for i, d in enumerate(ds):\n",
    "        ac = d.autocorrelation()\n",
    "        p.plot(ac / ac.max, label=header[i])\n",
    "    p.show_legend()\n",
    "    p.show()"
   ]
  },
  {
   "cell_type": "code",
   "execution_count": 13,
   "metadata": {
    "collapsed": false
   },
   "outputs": [],
   "source": [
    "plot_read_csv(*read_csv('data/currency.csv', 0, range(4, 16), int, to_numeric, skip=1), reset_x=True)"
   ]
  },
  {
   "cell_type": "code",
   "execution_count": 12,
   "metadata": {
    "collapsed": false
   },
   "outputs": [],
   "source": [
    "ds, header = read_csv('data/DCOILBRENTEU.csv', 0, [1], date_to_timestamp, to_numeric)\n",
    "ds[0] = ds[0].fragment(500, 800)[0]\n",
    "plot_read_csv(ds, header, reset_x=True)"
   ]
  },
  {
   "cell_type": "code",
   "execution_count": null,
   "metadata": {
    "collapsed": true
   },
   "outputs": [],
   "source": []
  }
 ],
 "metadata": {
  "kernelspec": {
   "display_name": "Python 2",
   "language": "python",
   "name": "python2"
  },
  "language_info": {
   "codemirror_mode": {
    "name": "ipython",
    "version": 2
   },
   "file_extension": ".py",
   "mimetype": "text/x-python",
   "name": "python",
   "nbconvert_exporter": "python",
   "pygments_lexer": "ipython2",
   "version": "2.7.12"
  }
 },
 "nbformat": 4,
 "nbformat_minor": 0
}
